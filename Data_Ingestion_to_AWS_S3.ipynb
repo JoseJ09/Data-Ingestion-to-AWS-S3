{
  "cells": [
    {
      "cell_type": "markdown",
      "metadata": {
        "id": "view-in-github",
        "colab_type": "text"
      },
      "source": [
        "<a href=\"https://colab.research.google.com/github/JoseJ09/Data-Ingestion-to-AWS-S3/blob/main/Data_Ingestion_to_AWS_S3.ipynb\" target=\"_parent\"><img src=\"https://colab.research.google.com/assets/colab-badge.svg\" alt=\"Open In Colab\"/></a>"
      ]
    },
    {
      "cell_type": "code",
      "source": [
        "\n",
        "!pip install boto3\n",
        "!pip install pickle\n",
        "!pip install yaml\n",
        "!pip install sodapy"
      ],
      "metadata": {
        "colab": {
          "base_uri": "https://localhost:8080/"
        },
        "id": "gYPQJ83_fjoC",
        "outputId": "3d0a07b9-f411-40ff-becf-e9ff7e744b87"
      },
      "execution_count": null,
      "outputs": [
        {
          "output_type": "stream",
          "name": "stdout",
          "text": [
            "Looking in indexes: https://pypi.org/simple, https://us-python.pkg.dev/colab-wheels/public/simple/\n",
            "Requirement already satisfied: boto3 in /usr/local/lib/python3.9/dist-packages (1.26.109)\n",
            "Requirement already satisfied: s3transfer<0.7.0,>=0.6.0 in /usr/local/lib/python3.9/dist-packages (from boto3) (0.6.0)\n",
            "Requirement already satisfied: jmespath<2.0.0,>=0.7.1 in /usr/local/lib/python3.9/dist-packages (from boto3) (1.0.1)\n",
            "Requirement already satisfied: botocore<1.30.0,>=1.29.109 in /usr/local/lib/python3.9/dist-packages (from boto3) (1.29.109)\n",
            "Requirement already satisfied: urllib3<1.27,>=1.25.4 in /usr/local/lib/python3.9/dist-packages (from botocore<1.30.0,>=1.29.109->boto3) (1.26.15)\n",
            "Requirement already satisfied: python-dateutil<3.0.0,>=2.1 in /usr/local/lib/python3.9/dist-packages (from botocore<1.30.0,>=1.29.109->boto3) (2.8.2)\n",
            "Requirement already satisfied: six>=1.5 in /usr/local/lib/python3.9/dist-packages (from python-dateutil<3.0.0,>=2.1->botocore<1.30.0,>=1.29.109->boto3) (1.16.0)\n",
            "Looking in indexes: https://pypi.org/simple, https://us-python.pkg.dev/colab-wheels/public/simple/\n",
            "\u001b[31mERROR: Could not find a version that satisfies the requirement pickle (from versions: none)\u001b[0m\u001b[31m\n",
            "\u001b[0m\u001b[31mERROR: No matching distribution found for pickle\u001b[0m\u001b[31m\n",
            "\u001b[0mLooking in indexes: https://pypi.org/simple, https://us-python.pkg.dev/colab-wheels/public/simple/\n",
            "\u001b[31mERROR: Could not find a version that satisfies the requirement yaml (from versions: none)\u001b[0m\u001b[31m\n",
            "\u001b[0m\u001b[31mERROR: No matching distribution found for yaml\u001b[0m\u001b[31m\n",
            "\u001b[0mLooking in indexes: https://pypi.org/simple, https://us-python.pkg.dev/colab-wheels/public/simple/\n",
            "Requirement already satisfied: sodapy in /usr/local/lib/python3.9/dist-packages (2.2.0)\n",
            "Requirement already satisfied: requests>=2.28.1 in /usr/local/lib/python3.9/dist-packages (from sodapy) (2.28.2)\n",
            "Requirement already satisfied: idna<4,>=2.5 in /usr/local/lib/python3.9/dist-packages (from requests>=2.28.1->sodapy) (3.4)\n",
            "Requirement already satisfied: certifi>=2017.4.17 in /usr/local/lib/python3.9/dist-packages (from requests>=2.28.1->sodapy) (2022.12.7)\n",
            "Requirement already satisfied: charset-normalizer<4,>=2 in /usr/local/lib/python3.9/dist-packages (from requests>=2.28.1->sodapy) (2.0.12)\n",
            "Requirement already satisfied: urllib3<1.27,>=1.21.1 in /usr/local/lib/python3.9/dist-packages (from requests>=2.28.1->sodapy) (1.26.15)\n"
          ]
        }
      ]
    },
    {
      "cell_type": "code",
      "execution_count": null,
      "metadata": {
        "id": "rV3MMdpAfWvT"
      },
      "outputs": [],
      "source": [
        "import pandas as pd\n",
        "import numpy as np\n",
        "import matplotlib.pyplot as plt\n",
        "import seaborn as sns\n",
        "import yaml\n",
        "import pickle\n",
        "import boto3\n",
        "\n",
        "from datetime import date\n",
        "from sodapy import Socrata"
      ]
    },
    {
      "cell_type": "code",
      "execution_count": null,
      "metadata": {
        "id": "9Z-54nM-fWvV"
      },
      "outputs": [],
      "source": [
        "with open('credentials.yaml', 'r') as f:\n",
        "    config = yaml.safe_load(f)\n",
        "\n",
        "token = config['api_chicago']['app_token']\n",
        "username = config['api_chicago']['username']\n",
        "password = config['api_chicago']['password']\n",
        "matricula = config['iexe']['matricula']\n"
      ]
    },
    {
      "cell_type": "code",
      "execution_count": null,
      "metadata": {
        "id": "S_nDzhCIfWvW"
      },
      "outputs": [],
      "source": [
        "# code for dataset of food inspections\n",
        "chicago_dataset = \"4ijn-s7e5\""
      ]
    },
    {
      "cell_type": "markdown",
      "metadata": {
        "id": "dQeHX0kEfWvW"
      },
      "source": [
        "### 1. Función get_client"
      ]
    },
    {
      "cell_type": "code",
      "execution_count": null,
      "metadata": {
        "id": "Kb9D2LTLfWvi"
      },
      "outputs": [],
      "source": [
        "def get_client():\n",
        "    client = Socrata(\"data.cityofchicago.org\",\n",
        "                     token,\n",
        "                     username=username,\n",
        "                     password=password)\n",
        "\n",
        "    return client"
      ]
    },
    {
      "cell_type": "markdown",
      "metadata": {
        "id": "PWXb51JCfWvj"
      },
      "source": [
        "*italicized text*### 2. Ingesta inicial\n",
        "\n",
        "Bajar los datos de la API de inspecciones de establecimientos de comida."
      ]
    },
    {
      "cell_type": "code",
      "execution_count": null,
      "metadata": {
        "id": "OueVaiU7fWvj"
      },
      "outputs": [],
      "source": [
        "def ingesta_inicial(chicago_dataset, client, limit):\n",
        "    datasets = client.get(chicago_dataset, limit=limit, offset=0, order='inspection_date')\n",
        "\n",
        "    return datasets"
      ]
    },
    {
      "cell_type": "code",
      "execution_count": null,
      "metadata": {
        "id": "qMxZ1RwyfWvk"
      },
      "outputs": [],
      "source": [
        "client = get_client()\n",
        "datasets = ingesta_inicial(chicago_dataset, client, 300000)"
      ]
    },
    {
      "cell_type": "code",
      "execution_count": null,
      "metadata": {
        "colab": {
          "base_uri": "https://localhost:8080/"
        },
        "id": "c9zrpu_AfWvk",
        "outputId": "5f36bebc-682b-45b9-a451-de27ef3fde63"
      },
      "outputs": [
        {
          "output_type": "execute_result",
          "data": {
            "text/plain": [
              "252043"
            ]
          },
          "metadata": {},
          "execution_count": 111
        }
      ],
      "source": [
        "len(datasets)"
      ]
    },
    {
      "cell_type": "code",
      "execution_count": null,
      "metadata": {
        "colab": {
          "base_uri": "https://localhost:8080/"
        },
        "id": "lMQJw8rXfWvl",
        "outputId": "9244f370-bece-431b-a195-c3e45247c1cd"
      },
      "outputs": [
        {
          "output_type": "execute_result",
          "data": {
            "text/plain": [
              "{'inspection_id': '104236',\n",
              " 'dba_name': 'TEMPO CAFE',\n",
              " 'aka_name': 'TEMPO CAFE',\n",
              " 'license_': '80916',\n",
              " 'facility_type': 'Restaurant',\n",
              " 'risk': 'Risk 1 (High)',\n",
              " 'address': '6 E CHESTNUT ST ',\n",
              " 'city': 'CHICAGO',\n",
              " 'state': 'IL',\n",
              " 'zip': '60611',\n",
              " 'inspection_date': '2010-01-04T00:00:00.000',\n",
              " 'inspection_type': 'Canvass',\n",
              " 'results': 'Fail',\n",
              " 'violations': '18. NO EVIDENCE OF RODENT OR INSECT OUTER OPENINGS PROTECTED/RODENT PROOFED, A WRITTEN LOG SHALL BE MAINTAINED AVAILABLE TO THE INSPECTORS - Comments: All necessary control measures shall be used to effectively minimize or eliminate the presence of rodents, roaches, and other vermin and insects on the premises of all food establishments, in food-transporting vehicles, and in vending machines.    Front patio door not rodent proofed. Basement rear door not rodent proofed. Must seal and maintain all outer openings. | 19. OUTSIDE GARBAGE WASTE GREASE AND STORAGE AREA; CLEAN, RODENT PROOF, ALL CONTAINERS COVERED - Comments: The area outside of the establishment used for the storage of garbage shall be clean at all times and shall not constitute a nuisance.    Outside garbage area not maintained. Must clean all areas to remove grease and food debris. Must close all dumpsters. Must clean and maintain at all times. | 32. FOOD AND NON-FOOD CONTACT SURFACES PROPERLY DESIGNED, CONSTRUCTED AND MAINTAINED - Comments: All food and non-food contact equipment and utensils shall be smooth, easily cleanable, and durable, and shall be in good repair.    All cutting boards in need of replacing due to being worn and stained. | 33. FOOD AND NON-FOOD CONTACT EQUIPMENT UTENSILS CLEAN, FREE OF ABRASIVE DETERGENTS - Comments: All food and non-food contact surfaces of equipment and all food storage utensils shall be thoroughly cleaned and sanitized daily. All utensils shall be thoroughly cleaned and sanitized after each usage.    The following equipment in need of cleaning:  all cooking equipment, sinks, soda box shelves, interior of reach-in and dish machine are. Must clean and maintain. | 34. FLOORS: CONSTRUCTED PER CODE, CLEANED, GOOD REPAIR, COVING INSTALLED, DUST-LESS CLEANING METHODS USED - Comments: The floors shall be constructed per code, be smooth and easily cleaned, and be kept clean and in good repair.    All floors through out in need of cleaning to remove build-up.  Floor area at stoves in need of regrouting. Must correct and maintain. | 35. WALLS, CEILINGS, ATTACHED EQUIPMENT CONSTRUCTED PER CODE: GOOD REPAIR, SURFACES CLEAN AND DUST-LESS CLEANING METHODS - Comments: The walls and ceilings shall be in good repair and easily cleaned. Use dustless cleaning methods.    All wall in need of cleaning to remove food splatters. Wall in basement storage area in need of repair of all broken tiles. Must correct and maintain. | 36. LIGHTING: REQUIRED MINIMUM FOOT-CANDLES OF LIGHT PROVIDED, FIXTURES SHIELDED - Comments: All rooms in which food or drink is prepared, or in which utensils are washed, shall be lighted so that a minimum of 50-foot candles of light is available on all work surfaces. Shielding to protect against broken glass falling into food shall be provided for all artificial lighting sources in preparation, service, and display facilities.    lights in basement and 1st floior in need of proper shields. Must install and maintain. | 37. TOILET ROOM DOORS SELF CLOSING: DRESSING ROOMS WITH LOCKERS PROVIDED: COMPLETE SEPARATION FROM LIVING/SLEEPING QUARTERS - Comments: None of the operations connected with food establishments shall be conducted in any room used as living or sleeping quarters. Toilet rooms shall be completely enclosed and shall be vented to the outside air or mechanically ventilated.    Must install self-closing device to 2nd floor employee washroom. | 38. VENTILATION: ROOMS AND EQUIPMENT VENTED AS REQUIRED: PLUMBING: INSTALLED AND MAINTAINED - Comments: The flow of air discharged from kitchen fans shall always be through a duct to a point above the roofline. Ventilation: All plumbing fixtures, such as toilets, sinks, washbasins, etc., must be adequately trapped, vented, and re-vented and properly connected to the sewer in accordance with the plumbing chapter of the Municipal Code of Chicago and the Rules and Regulations of the Board of Health.    Must correct leak at faucet at basement prep sink.  Must install dipper well at ice cream section. | 39. LINEN: CLEAN AND SOILED PROPERLY STORED - Comments: Soiled and clean linens, coats, and aprons shall be properly stored    All linen dirty and clean must be stored properly. must maintain. | 41. PREMISES MAINTAINED FREE OF LITTER, UNNECESSARY ARTICLES, CLEANING  EQUIPMENT PROPERLY STORED - Comments: All parts of the food establishment and all parts of the property used in connection with the operation of the establishment shall be kept neat and clean and should not produce any offensive odors. Cleaning equipment shall be properly stored away from food, utensils, equipment, and clean linens.    All unnecessary clutter in basement storage area must be removed. Must maintain.',\n",
              " 'latitude': '41.89843137207629',\n",
              " 'longitude': '-87.6280091630558',\n",
              " 'location': {'latitude': '41.89843137207629',\n",
              "  'longitude': '-87.6280091630558'}}"
            ]
          },
          "metadata": {},
          "execution_count": 112
        }
      ],
      "source": [
        "datasets[0]"
      ]
    },
    {
      "cell_type": "markdown",
      "metadata": {
        "id": "l_K-SycCfWvm"
      },
      "source": [
        "### 3. Almacenamiento de ingesta inicial"
      ]
    },
    {
      "cell_type": "code",
      "execution_count": null,
      "metadata": {
        "id": "keCu1yqmfWvm"
      },
      "outputs": [],
      "source": [
        "def guardar_ingesta(bucket, bucket_path, dataset):\n",
        "    session = boto3.Session(\n",
        "        aws_access_key_id = config['s3']['aws_access_key_id'],\n",
        "        aws_secret_access_key = config['s3']['aws_secret_access_key'],\n",
        "        aws_session_token= config['s3']['aws_session_token']\n",
        "    )\n",
        "\n",
        "    s3 = session.resource('s3')\n",
        "    s3.Object(bucket, bucket_path).put(Body=dataset)"
      ]
    },
    {
      "cell_type": "markdown",
      "source": [
        "### 3a. Creación de Bucket\n",
        "##### creamos la variable con la fecha de hoy"
      ],
      "metadata": {
        "id": "oiVCeUhM5H-C"
      }
    },
    {
      "cell_type": "code",
      "execution_count": null,
      "metadata": {
        "id": "TFWOrPayfWvn"
      },
      "outputs": [],
      "source": [
        "TODAY = date.today()\n",
        "if not 'bucket_creado' in locals():\n",
        "  print(\"creando\")\n",
        "  session = boto3.Session(\n",
        "    aws_access_key_id = config['s3']['aws_access_key_id'],\n",
        "    aws_secret_access_key = config['s3']['aws_secret_access_key'],\n",
        "    aws_session_token= config['s3']['aws_session_token']\n",
        "  )\n",
        "  s3 = session.resource('s3')\n",
        "  nombre_bucket = \"aplicaciones-cd-1-\" + config['iexe']['matricula']\n",
        "  s3.create_bucket(Bucket=nombre_bucket)\n",
        "  bucket_creado = True"
      ]
    },
    {
      "cell_type": "code",
      "source": [
        " nombre_bucket"
      ],
      "metadata": {
        "colab": {
          "base_uri": "https://localhost:8080/",
          "height": 36
        },
        "id": "HQPJe-0CmKtN",
        "outputId": "8c34b202-2196-4108-b860-f72a6e95b40b"
      },
      "execution_count": null,
      "outputs": [
        {
          "output_type": "execute_result",
          "data": {
            "text/plain": [
              "'aplicaciones-cd-1-mcda22c007'"
            ],
            "application/vnd.google.colaboratory.intrinsic+json": {
              "type": "string"
            }
          },
          "metadata": {},
          "execution_count": 115
        }
      ]
    },
    {
      "cell_type": "code",
      "execution_count": null,
      "metadata": {
        "id": "TPkrintufWvn"
      },
      "outputs": [],
      "source": [
        "pickle_data = pickle.dumps(datasets)"
      ]
    },
    {
      "cell_type": "code",
      "execution_count": null,
      "metadata": {
        "id": "9HP9HTqyfWvn"
      },
      "outputs": [],
      "source": [
        "bucket = \"aplicaciones-cd-1-\" + config['iexe']['matricula']\n",
        "key = \"ingesta/inicial/inspecciones-historicas-\" + str(TODAY) + \".pkl\"\n",
        "\n",
        "guardar_ingesta(bucket, key, pickle_data)"
      ]
    },
    {
      "cell_type": "markdown",
      "metadata": {
        "id": "iSGeFi7FfWvo"
      },
      "source": [
        "Guardar el dataset en un pickle en un bucket de s3, el nombre del archivo dete terminar con el día en el que se realizó la ingesta (obtenido de manera dinámica)."
      ]
    },
    {
      "cell_type": "markdown",
      "metadata": {
        "id": "KbQWTKbofWvo"
      },
      "source": [
        "### 4. Ingestas consecutivas"
      ]
    },
    {
      "cell_type": "markdown",
      "metadata": {
        "id": "CoVMjkmhfWvp"
      },
      "source": [
        "La siguiente vez que se ingestan los datos se tendrá que pedir específicamente a partir de la fecha desde la que no tienes datos."
      ]
    },
    {
      "cell_type": "code",
      "execution_count": null,
      "metadata": {
        "id": "LgCTPsRnfWvp"
      },
      "outputs": [],
      "source": [
        "def ingesta_consecutiva(chicago_dataset, client, fecha, limit):\n",
        "    new_dataset = client.get(chicago_dataset, limit=limit, where=\"inspection_date>='{}'\".format(fecha))\n",
        "\n",
        "    return new_dataset"
      ]
    },
    {
      "cell_type": "code",
      "execution_count": null,
      "metadata": {
        "id": "EiTcmrKAfWvp"
      },
      "outputs": [],
      "source": [
        "client = get_client()"
      ]
    },
    {
      "cell_type": "code",
      "execution_count": null,
      "metadata": {
        "id": "ywvNJUywfWvq"
      },
      "outputs": [],
      "source": [
        "new_dataset = ingesta_consecutiva(chicago_dataset, client, '2020-11-03', 1000)"
      ]
    },
    {
      "cell_type": "code",
      "execution_count": null,
      "metadata": {
        "colab": {
          "base_uri": "https://localhost:8080/"
        },
        "id": "95975jh8fWvq",
        "outputId": "5e3d9989-4c7f-44f8-991d-733329b1d350"
      },
      "outputs": [
        {
          "output_type": "execute_result",
          "data": {
            "text/plain": [
              "{'inspection_id': '2456231',\n",
              " 'dba_name': 'THAI ROOM RESTAURANT INC.',\n",
              " 'aka_name': 'THAI ROOM RESTAURANT',\n",
              " 'license_': '9571',\n",
              " 'facility_type': 'Restaurant',\n",
              " 'risk': 'Risk 1 (High)',\n",
              " 'address': '4022 N WESTERN AVE ',\n",
              " 'city': 'CHICAGO',\n",
              " 'state': 'IL',\n",
              " 'zip': '60618',\n",
              " 'inspection_date': '2020-11-03T00:00:00.000',\n",
              " 'inspection_type': 'Canvass',\n",
              " 'results': 'Pass w/ Conditions',\n",
              " 'violations': '5. PROCEDURES FOR RESPONDING TO VOMITING AND DIARRHEAL EVENTS - Comments: OBSERVED SUPPLIES MISSING FROM VOMIT AND DIARRHEA CLEAN UP KIT AND PROCEDURE. INSTRUCTED TO PROVIDE ALL NECESSARY SUPPLIES AS OUTLINED IN POLICY. PRIORITY FOUNDATION. 7-38-005. NO CITATION ISSUED. | 38. INSECTS, RODENTS, & ANIMALS NOT PRESENT - Comments: OBSERVED THREE DEAD COCKROACHES ON GLUEBOARD LOCATED UNDERNEATH 3-COMPARTMENT SINK. MUST REMOVE. | 53. TOILET FACILITIES: PROPERLY CONSTRUCTED, SUPPLIED, & CLEANED - Comments: OBSERVED NO LID ON TRASH CAN IN WOMEN?S BATHROOM. MUST PROVIDE.',\n",
              " 'latitude': '41.954759040059784',\n",
              " 'longitude': '-87.68863476569152',\n",
              " 'location': {'latitude': '41.954759040059784',\n",
              "  'longitude': '-87.68863476569152'}}"
            ]
          },
          "metadata": {},
          "execution_count": 121
        }
      ],
      "source": [
        "new_dataset[0]"
      ]
    },
    {
      "cell_type": "code",
      "execution_count": null,
      "metadata": {
        "colab": {
          "base_uri": "https://localhost:8080/"
        },
        "id": "6GojW51cfWvq",
        "outputId": "5f01265e-60ef-4ca5-e7a2-955cc1fb0d97"
      },
      "outputs": [
        {
          "output_type": "execute_result",
          "data": {
            "text/plain": [
              "1000"
            ]
          },
          "metadata": {},
          "execution_count": 122
        }
      ],
      "source": [
        "len(new_dataset)"
      ]
    },
    {
      "cell_type": "markdown",
      "metadata": {
        "id": "zEm4vGCZfWvr"
      },
      "source": [
        "### 5. Almacenamiento de ingestas consecutivas"
      ]
    },
    {
      "cell_type": "code",
      "execution_count": null,
      "metadata": {
        "id": "2wKydjBAfWvr"
      },
      "outputs": [],
      "source": [
        "pickled_new_data = pickle.dumps(new_dataset)"
      ]
    },
    {
      "cell_type": "code",
      "execution_count": null,
      "metadata": {
        "id": "XrwuTpVBfWvr"
      },
      "outputs": [],
      "source": [
        "bucket = \"aplicaciones-cd-1-\" + config['iexe']['matricula']\n",
        "key = \"ingesta/consecutiva/inspecciones-consecutivas-\" + str(TODAY) + \".pkl\"\n",
        "\n",
        "guardar_ingesta(bucket, key, pickled_new_data)"
      ]
    },
    {
      "cell_type": "code",
      "source": [],
      "metadata": {
        "id": "lXcH-W9v38kU"
      },
      "execution_count": null,
      "outputs": []
    }
  ],
  "metadata": {
    "kernelspec": {
      "display_name": "iexe",
      "language": "python",
      "name": "iexe"
    },
    "language_info": {
      "codemirror_mode": {
        "name": "ipython",
        "version": 3
      },
      "file_extension": ".py",
      "mimetype": "text/x-python",
      "name": "python",
      "nbconvert_exporter": "python",
      "pygments_lexer": "ipython3",
      "version": "3.7.4"
    },
    "colab": {
      "provenance": [],
      "include_colab_link": true
    }
  },
  "nbformat": 4,
  "nbformat_minor": 0
}